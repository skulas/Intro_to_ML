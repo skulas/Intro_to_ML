{
 "cells": [
  {
   "cell_type": "markdown",
   "metadata": {},
   "source": [
    "# Prase Logs"
   ]
  },
  {
   "cell_type": "code",
   "execution_count": null,
   "metadata": {},
   "outputs": [],
   "source": [
    "import re\n",
    "from IPython import os"
   ]
  },
  {
   "cell_type": "code",
   "execution_count": null,
   "metadata": {},
   "outputs": [],
   "source": [
    "logFile = './Unit_ID_705393__Usr_ID_266574.txt' ##'./Unit_ID_705392__Usr_ID_266573.txt'\n",
    "csvFile = logFile.replace('.txt', '.csv')\n",
    "%pwd"
   ]
  },
  {
   "cell_type": "markdown",
   "metadata": {},
   "source": [
    "## Line Parser"
   ]
  },
  {
   "cell_type": "code",
   "execution_count": null,
   "metadata": {},
   "outputs": [],
   "source": [
    "# SSN: session number, MSN: \n",
    "rawLineExample = '000: ? 2017/07/05 07:52:54, (0x09)U2H.MANEUVER -  Braking (19), Strength:3, SSN: 114, MSN: 21, Max X:-35, Max Y:0, Max Z:0, Start Speed:31, End Speed:7, Timer:1720'\n",
    "\n",
    "def parseFileLine(textLine):\n",
    "    # dateFixRegex = re.compile()\n",
    "    lineFlag = '000: ? ' \n",
    "    \n",
    "    # Basic test if this is a relevant log line\n",
    "    flagRecon = textLine.find(lineFlag)\n",
    "    if (flagRecon < 0):\n",
    "        return ''\n",
    "    \n",
    "    # Get rid of the flag\n",
    "    newLine  = textLine.replace(lineFlag, '')\n",
    "    \n",
    "    # Add a , (comma) before between date and time.    \n",
    "    newLine = re.sub(r'(\\s)([0-9]{2}:)', r',\\2', newLine)\n",
    "    \n",
    "    # Remove Junk\n",
    "    newLine = newLine.replace(' (0x09)U2H.MANEUVER -  ', '')\n",
    "    \n",
    "    # Extract Event Id\n",
    "    newLine = re.sub(r'( \\()([0-9]*)(\\)),', r',\\2, ', newLine)\n",
    "    \n",
    "    # Remove The 'Timer' Field, keep it, it is the length of the event in ms.\n",
    "#     newLine = re.sub(r', Timer:.*', '', newLine)\n",
    "    \n",
    "    # Remove Labels\n",
    "    newLine = re.sub(r'[A-Z a-z]+: ?', '', newLine)\n",
    "    \n",
    "    return newLine\n",
    "\n",
    "print('1:', parseFileLine(rawLineExample))\n",
    "print('2:', parseFileLine('Superton toos'))"
   ]
  },
  {
   "cell_type": "markdown",
   "metadata": {},
   "source": [
    "## File Scan\n",
    "1. Create a new CSV file\n",
    "1. Write the headears line\n",
    "1. Open Original Log File (raw)\n",
    "1. Scan the lines of the file\n",
    "1. Parse each Line\n",
    "1. If parsing is successful, save the line into a new CSV file\n"
   ]
  },
  {
   "cell_type": "code",
   "execution_count": null,
   "metadata": {},
   "outputs": [],
   "source": [
    "def parseLogFile(rawfilename=logFile, csvfilename=csvFile):\n",
    "    try:\n",
    "        rawFile = open(rawfilename, 'r')\n",
    "        newCSVFile = open(csvfilename, 'w')\n",
    "    except:\n",
    "        print('Error, could not open file')\n",
    "        return\n",
    "\n",
    "    rawLine = rawFile.readline()\n",
    "    parseCounter = 0\n",
    "    dropCounter = 0\n",
    "    while rawLine:\n",
    "        parsedLine = parseFileLine(rawLine)\n",
    "        if len(parsedLine) > 0:\n",
    "            newCSVFile.writelines([parsedLine])\n",
    "            parseCounter+=1\n",
    "        else:\n",
    "            dropCounter+=1\n",
    "        rawLine = rawFile.readline()\n",
    "        \n",
    "    print('Totally Parsed', parseCounter, 'lines and ignored', dropCounter, 'lines')\n",
    "    newCSVFile.flush()\n",
    "    rawFile.close()\n",
    "    newCSVFile.close()\n",
    "\n",
    "parseLogFile(logFile, csvFile)"
   ]
  },
  {
   "cell_type": "code",
   "execution_count": null,
   "metadata": {},
   "outputs": [],
   "source": [
    "bobostr = 'bobo string'\n",
    "print(len(bobostr))"
   ]
  },
  {
   "cell_type": "markdown",
   "metadata": {},
   "source": [
    "## Notes\n",
    "The logs are in **local time** and the DB is **UTC**. So, for Ariel case, the logs are two hours ahead (bigger) than the database which is two hours behind."
   ]
  },
  {
   "cell_type": "code",
   "execution_count": null,
   "metadata": {},
   "outputs": [],
   "source": []
  }
 ],
 "metadata": {
  "kernelspec": {
   "display_name": "Python 3",
   "language": "python",
   "name": "python3"
  },
  "language_info": {
   "codemirror_mode": {
    "name": "ipython",
    "version": 3
   },
   "file_extension": ".py",
   "mimetype": "text/x-python",
   "name": "python",
   "nbconvert_exporter": "python",
   "pygments_lexer": "ipython3",
   "version": "3.6.3"
  }
 },
 "nbformat": 4,
 "nbformat_minor": 2
}
