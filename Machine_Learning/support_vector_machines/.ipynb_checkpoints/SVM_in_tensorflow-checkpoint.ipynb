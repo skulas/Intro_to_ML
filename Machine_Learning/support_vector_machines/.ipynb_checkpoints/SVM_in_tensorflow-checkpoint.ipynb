{
 "cells": [
  {
   "cell_type": "markdown",
   "metadata": {},
   "source": [
    "# SVM in TensorFlow\n",
    "## Playing with SVM in TF"
   ]
  },
  {
   "cell_type": "markdown",
   "metadata": {},
   "source": [
    "Use __generated data__ to run a linear SVM classifier.\n",
    "\n"
   ]
  },
  {
   "cell_type": "code",
   "execution_count": null,
   "metadata": {
    "collapsed": true
   },
   "outputs": [],
   "source": [
    "import tensorflow as tf\n",
    "import numpy as np\n",
    "from matplotlib import pyplot as plt"
   ]
  },
  {
   "cell_type": "markdown",
   "metadata": {},
   "source": [
    "### Generate Data\n",
    "Generate numbers between -5 to 5. Classes: x<y is __+__ otherwise is __-__"
   ]
  },
  {
   "cell_type": "code",
   "execution_count": null,
   "metadata": {
    "collapsed": true
   },
   "outputs": [],
   "source": [
    "min_y = min_x = -5\n",
    "max_y = max_x = 5\n",
    "x_coords = np.random.uniform(min_x, max_x, (500, 1))\n",
    "y_coords = np.random.uniform(min_y, max_y, (500, 1))"
   ]
  },
  {
   "cell_type": "code",
   "execution_count": null,
   "metadata": {},
   "outputs": [],
   "source": [
    "plt.plot(x_coords,y_coords,'+r')\n",
    "plt.show()"
   ]
  },
  {
   "cell_type": "markdown",
   "metadata": {},
   "source": [
    "### Create a gap\n",
    "Move the negatives left and up and the possitives right and down by 2/sqrt(2)"
   ]
  },
  {
   "cell_type": "code",
   "execution_count": null,
   "metadata": {
    "collapsed": true
   },
   "outputs": [],
   "source": [
    "clazz = np.greater(y_coords, x_coords).astype(int)\n",
    "delta = 0.5/np.sqrt(2.0)\n",
    "\n",
    "x_coords = x_coords + ((0 - clazz) * delta) + ((1 - clazz) * delta)\n",
    "y_coords = y_coords + (clazz * delta) + ((clazz - 1) * delta)"
   ]
  },
  {
   "cell_type": "code",
   "execution_count": null,
   "metadata": {},
   "outputs": [],
   "source": [
    "plt.plot(x_coords,y_coords,'+r')\n",
    "plt.show()"
   ]
  },
  {
   "cell_type": "code",
   "execution_count": null,
   "metadata": {
    "collapsed": true
   },
   "outputs": [],
   "source": [
    "a = np.arange(4)\n",
    "b = np.square(a)\n",
    "c = map(lambda x: str(x+1), a)"
   ]
  },
  {
   "cell_type": "code",
   "execution_count": null,
   "metadata": {},
   "outputs": [],
   "source": [
    "list(c)"
   ]
  },
  {
   "cell_type": "code",
   "execution_count": null,
   "metadata": {
    "collapsed": true
   },
   "outputs": [],
   "source": [
    "def input_fn():\n",
    "    return {\n",
    "        'example_id': tf.constant(\n",
    "            list(map(lambda x: str(x + 1), np.arange(len(x_coords))))),\n",
    "        'x':tf.constant(x_coords),\n",
    "        'y':tf.constant(y_coords)\n",
    "    }, tf.constant(clazz) "
   ]
  },
  {
   "cell_type": "markdown",
   "metadata": {},
   "source": [
    "### Train the SVM"
   ]
  },
  {
   "cell_type": "code",
   "execution_count": null,
   "metadata": {},
   "outputs": [],
   "source": [
    "feature1 = tf.contrib.layers.real_valued_column('x')\n",
    "feature2 = tf.contrib.layers.real_valued_column('y')\n",
    "svm_classifier = tf.contrib.learn.SVM(\n",
    "    feature_columns=[feature1, feature2],\n",
    "    example_id_column='example_id')\n",
    "svm_classifier.fit(input_fn=input_fn, steps=30)\n",
    "metrics = svm_classifier.evaluate(input_fn=input_fn, steps=1)\n",
    "print(\"Loss\", metrics['loss'], \"\\nAccuracy\", metrics['accuracy'])"
   ]
  },
  {
   "cell_type": "markdown",
   "metadata": {
    "collapsed": true
   },
   "source": [
    "### Classify using the SVM\n",
    "Generate a few samples and predict their clazz."
   ]
  },
  {
   "cell_type": "code",
   "execution_count": null,
   "metadata": {},
   "outputs": [],
   "source": [
    "x_predict = np.random.uniform(min_x, max_x, (20,1))\n",
    "y_predict = np.random.uniform(min_y, max_y, (20,1))\n",
    "\n",
    "def predict_fn():\n",
    "    return{\n",
    "        'x':tf.constant(x_predict),\n",
    "        'y':tf.constant(y_predict)\n",
    "    }"
   ]
  },
  {
   "cell_type": "markdown",
   "metadata": {},
   "source": [
    "Predict and plot predictions"
   ]
  },
  {
   "cell_type": "code",
   "execution_count": null,
   "metadata": {},
   "outputs": [],
   "source": [
    "pred = list(svm_classifier.predict(input_fn=predict_fn))\n",
    "predicted_class = map(lambda x:x['classes'], pred)\n",
    "annotations = map(lambda x: '%.2f' % x['logits'][0], pred)"
   ]
  },
  {
   "cell_type": "code",
   "execution_count": null,
   "metadata": {
    "collapsed": true
   },
   "outputs": [],
   "source": []
  }
 ],
 "metadata": {
  "kernelspec": {
   "display_name": "Python 3",
   "language": "python",
   "name": "python3"
  },
  "language_info": {
   "codemirror_mode": {
    "name": "ipython",
    "version": 3
   },
   "file_extension": ".py",
   "mimetype": "text/x-python",
   "name": "python",
   "nbconvert_exporter": "python",
   "pygments_lexer": "ipython3",
   "version": "3.6.3"
  }
 },
 "nbformat": 4,
 "nbformat_minor": 2
}
